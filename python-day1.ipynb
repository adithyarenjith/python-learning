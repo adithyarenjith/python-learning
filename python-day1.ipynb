{
 "cells": [
  {
   "cell_type": "code",
   "execution_count": 12,
   "id": "086ae7d0",
   "metadata": {},
   "outputs": [
    {
     "name": "stdout",
     "output_type": "stream",
     "text": [
      "Sarath\n"
     ]
    }
   ],
   "source": [
    "name = 'Sarath'\n",
    "print(name)"
   ]
  },
  {
   "cell_type": "code",
   "execution_count": null,
   "id": "cc36ee0b",
   "metadata": {},
   "outputs": [],
   "source": [
    "Variable is a lablel for a memory location"
   ]
  },
  {
   "cell_type": "code",
   "execution_count": 13,
   "id": "459ca530",
   "metadata": {},
   "outputs": [
    {
     "data": {
      "text/plain": [
       "2446885191216"
      ]
     },
     "execution_count": 13,
     "metadata": {},
     "output_type": "execute_result"
    }
   ],
   "source": [
    "id(name)"
   ]
  },
  {
   "cell_type": "code",
   "execution_count": 14,
   "id": "e122e1ec",
   "metadata": {},
   "outputs": [
    {
     "data": {
      "text/plain": [
       "'0x239b5b8fe30'"
      ]
     },
     "execution_count": 14,
     "metadata": {},
     "output_type": "execute_result"
    }
   ],
   "source": [
    "hex(id(name))"
   ]
  },
  {
   "cell_type": "code",
   "execution_count": 15,
   "id": "6d16bb6e",
   "metadata": {},
   "outputs": [
    {
     "name": "stdout",
     "output_type": "stream",
     "text": [
      "Sarath\n"
     ]
    }
   ],
   "source": [
    "name2 = name\n",
    "print(name2)"
   ]
  },
  {
   "cell_type": "code",
   "execution_count": 16,
   "id": "38d3f00c",
   "metadata": {},
   "outputs": [
    {
     "data": {
      "text/plain": [
       "'0x239b5b8fe30'"
      ]
     },
     "execution_count": 16,
     "metadata": {},
     "output_type": "execute_result"
    }
   ],
   "source": [
    "hex(id(name2))"
   ]
  },
  {
   "cell_type": "code",
   "execution_count": 17,
   "id": "f778ecb5",
   "metadata": {},
   "outputs": [],
   "source": [
    "name2 = 'Adithya'"
   ]
  },
  {
   "cell_type": "code",
   "execution_count": 18,
   "id": "52545977",
   "metadata": {},
   "outputs": [
    {
     "name": "stdout",
     "output_type": "stream",
     "text": [
      "Adithya\n"
     ]
    }
   ],
   "source": [
    "print(name2)"
   ]
  },
  {
   "cell_type": "code",
   "execution_count": 19,
   "id": "3204fbf9",
   "metadata": {},
   "outputs": [
    {
     "name": "stdout",
     "output_type": "stream",
     "text": [
      "Sarath\n"
     ]
    }
   ],
   "source": [
    "print(name)"
   ]
  },
  {
   "cell_type": "code",
   "execution_count": 21,
   "id": "99bce030",
   "metadata": {},
   "outputs": [
    {
     "data": {
      "text/plain": [
       "'0x239b5b8fe30'"
      ]
     },
     "execution_count": 21,
     "metadata": {},
     "output_type": "execute_result"
    }
   ],
   "source": [
    "hex(id(name))"
   ]
  },
  {
   "cell_type": "code",
   "execution_count": 22,
   "id": "dd927e60",
   "metadata": {},
   "outputs": [
    {
     "data": {
      "text/plain": [
       "'0x239b5ba59f0'"
      ]
     },
     "execution_count": 22,
     "metadata": {},
     "output_type": "execute_result"
    }
   ],
   "source": [
    "hex(id(name2))"
   ]
  },
  {
   "cell_type": "code",
   "execution_count": 23,
   "id": "8a0d99bc",
   "metadata": {},
   "outputs": [
    {
     "name": "stdout",
     "output_type": "stream",
     "text": [
      "30\n"
     ]
    }
   ],
   "source": [
    "num1 = 10\n",
    "num2 = 20\n",
    "print(num1+num2)"
   ]
  },
  {
   "cell_type": "code",
   "execution_count": 24,
   "id": "5efbdec1",
   "metadata": {},
   "outputs": [
    {
     "data": {
      "text/plain": [
       "70"
      ]
     },
     "execution_count": 24,
     "metadata": {},
     "output_type": "execute_result"
    }
   ],
   "source": [
    "num1 = 50\n",
    "num2 = 20\n",
    "num1+num2"
   ]
  },
  {
   "cell_type": "code",
   "execution_count": 25,
   "id": "3218a915",
   "metadata": {},
   "outputs": [],
   "source": [
    "def sum (num1, num2):\n",
    "    print(num1 + num2)"
   ]
  },
  {
   "cell_type": "code",
   "execution_count": 26,
   "id": "5bdfd762",
   "metadata": {},
   "outputs": [
    {
     "name": "stdout",
     "output_type": "stream",
     "text": [
      "15\n"
     ]
    }
   ],
   "source": [
    "sum (5,10)"
   ]
  },
  {
   "cell_type": "code",
   "execution_count": 27,
   "id": "ae5c43a2",
   "metadata": {},
   "outputs": [
    {
     "name": "stdout",
     "output_type": "stream",
     "text": [
      "6\n"
     ]
    }
   ],
   "source": [
    "sum(4,2)"
   ]
  },
  {
   "cell_type": "code",
   "execution_count": 28,
   "id": "7a84a97e",
   "metadata": {},
   "outputs": [],
   "source": [
    "def toupper(inputstr):\n",
    "    print(inputstr.upper())"
   ]
  },
  {
   "cell_type": "code",
   "execution_count": 29,
   "id": "599e1fcb",
   "metadata": {},
   "outputs": [
    {
     "name": "stdout",
     "output_type": "stream",
     "text": [
      "SARATH\n"
     ]
    }
   ],
   "source": [
    "toupper('sarath')"
   ]
  },
  {
   "cell_type": "code",
   "execution_count": 30,
   "id": "879b9ff7",
   "metadata": {},
   "outputs": [
    {
     "name": "stdout",
     "output_type": "stream",
     "text": [
      "NELLIMUKAL\n"
     ]
    }
   ],
   "source": [
    "toupper('nellimukal')"
   ]
  },
  {
   "cell_type": "code",
   "execution_count": 31,
   "id": "df06ec49",
   "metadata": {},
   "outputs": [
    {
     "ename": "NameError",
     "evalue": "name 'upper' is not defined",
     "output_type": "error",
     "traceback": [
      "\u001b[1;31m---------------------------------------------------------------------------\u001b[0m",
      "\u001b[1;31mNameError\u001b[0m                                 Traceback (most recent call last)",
      "Cell \u001b[1;32mIn[31], line 1\u001b[0m\n\u001b[1;32m----> 1\u001b[0m upper(\u001b[38;5;124m'\u001b[39m\u001b[38;5;124mSarath\u001b[39m\u001b[38;5;124m'\u001b[39m)\n",
      "\u001b[1;31mNameError\u001b[0m: name 'upper' is not defined"
     ]
    }
   ],
   "source": [
    "upper('Sarath')"
   ]
  },
  {
   "cell_type": "code",
   "execution_count": 32,
   "id": "5a1f2195",
   "metadata": {},
   "outputs": [
    {
     "data": {
      "text/plain": [
       "5"
      ]
     },
     "execution_count": 32,
     "metadata": {},
     "output_type": "execute_result"
    }
   ],
   "source": [
    "max(5,2,3)"
   ]
  },
  {
   "cell_type": "markdown",
   "id": "910df537",
   "metadata": {},
   "source": [
    "Problem: Define a function that compute the grade of a student. The input to the function is the name of the student, the subject and the score. The score is on a scale of 100. \n",
    "95 - 100 > A+\n",
    "80 - 95 > A\n",
    "70-79 > B\n",
    "40-69 > C\n",
    "<40 > F\n",
    "\n",
    "'Sarath's grade for Social science is A+'\n"
   ]
  },
  {
   "cell_type": "code",
   "execution_count": 43,
   "id": "5eae2ab1",
   "metadata": {},
   "outputs": [],
   "source": [
    "def calculate_grade(name,score,subject):\n",
    "    if score>95:\n",
    "       grade =  \"a+\"\n",
    "    elif score>80:\n",
    "       grade = \"a\"\n",
    "    elif score>70:\n",
    "       grade=\"b\"\n",
    "    elif score>40:\n",
    "       grade=\"c\"\n",
    "    elif score<40:\n",
    "       grade=\"f\"\n",
    "    print(name+\"'s\"+\" grade for \"+subject+\" is \"+grade)"
   ]
  },
  {
   "cell_type": "code",
   "execution_count": 44,
   "id": "93b982a3",
   "metadata": {},
   "outputs": [
    {
     "name": "stdout",
     "output_type": "stream",
     "text": [
      "sarath's grade for Maths is a\n"
     ]
    }
   ],
   "source": [
    "calculate_grade('sarath',85,'Maths')"
   ]
  },
  {
   "cell_type": "code",
   "execution_count": 45,
   "id": "6af39212",
   "metadata": {},
   "outputs": [
    {
     "name": "stdout",
     "output_type": "stream",
     "text": [
      "adithya's grade for social science is c\n"
     ]
    }
   ],
   "source": [
    "calculate_grade('adithya',68,'social science')"
   ]
  },
  {
   "cell_type": "code",
   "execution_count": null,
   "id": "500aec78",
   "metadata": {},
   "outputs": [],
   "source": []
  }
 ],
 "metadata": {
  "kernelspec": {
   "display_name": "Python 3 (ipykernel)",
   "language": "python",
   "name": "python3"
  },
  "language_info": {
   "codemirror_mode": {
    "name": "ipython",
    "version": 3
   },
   "file_extension": ".py",
   "mimetype": "text/x-python",
   "name": "python",
   "nbconvert_exporter": "python",
   "pygments_lexer": "ipython3",
   "version": "3.11.4"
  }
 },
 "nbformat": 4,
 "nbformat_minor": 5
}
